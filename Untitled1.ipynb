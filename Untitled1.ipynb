{
 "cells": [
  {
   "cell_type": "code",
   "execution_count": 1,
   "id": "a1d3897e",
   "metadata": {},
   "outputs": [],
   "source": [
    "import pandas as pd\n",
    "import numpy as np"
   ]
  },
  {
   "cell_type": "code",
   "execution_count": 2,
   "id": "09dacb67",
   "metadata": {},
   "outputs": [],
   "source": [
    "import os"
   ]
  },
  {
   "cell_type": "code",
   "execution_count": 3,
   "id": "34937b84",
   "metadata": {},
   "outputs": [],
   "source": [
    "data = open('dataset.data', mode='rb')"
   ]
  },
  {
   "cell_type": "code",
   "execution_count": 4,
   "id": "e7d3e8ae",
   "metadata": {},
   "outputs": [],
   "source": [
    "import codecs\n",
    "import struct\n",
    "import numpy as np\n",
    "import datetime"
   ]
  },
  {
   "cell_type": "code",
   "execution_count": 15,
   "id": "b4376729",
   "metadata": {},
   "outputs": [],
   "source": [
    "from sklearn.model_selection import train_test_split"
   ]
  },
  {
   "cell_type": "code",
   "execution_count": 5,
   "id": "4b1adb25",
   "metadata": {},
   "outputs": [],
   "source": [
    "path = 'dataset.data'\n",
    "f2=open(path,'rb')\n",
    "data1=[]\n",
    "for i in range(16317653):\n",
    "    byte=f2.read(16*8) \n",
    "    if not(byte):  break \n",
    "    a=list(struct.unpack('16d',byte))\n",
    "    s = str(int(np.floor(a[0]))) \n",
    "    a[0:]=list(map(np.float32,a[0:]))     \n",
    "    data1.append(a)\n",
    "f2.close()"
   ]
  },
  {
   "cell_type": "code",
   "execution_count": 6,
   "id": "077a1f61",
   "metadata": {},
   "outputs": [],
   "source": [
    "n = 1"
   ]
  },
  {
   "cell_type": "code",
   "execution_count": 7,
   "id": "23ce1318",
   "metadata": {},
   "outputs": [
    {
     "name": "stdout",
     "output_type": "stream",
     "text": [
      "[[54.66, 83.5, 261.0, 0.2754, 0.7256, 2.79, 1.192, -0.447, 0.07214, 0.06174, -0.2676, 0.02916, 0.8896, 2.352, 0.5454, -0.03078]]\n"
     ]
    }
   ],
   "source": [
    "print(data1[:n])"
   ]
  },
  {
   "cell_type": "code",
   "execution_count": 8,
   "id": "c0b87894",
   "metadata": {},
   "outputs": [],
   "source": [
    "len =0\n",
    "for x in data1:\n",
    "    if x!=None: len = len+1"
   ]
  },
  {
   "cell_type": "code",
   "execution_count": 9,
   "id": "3024d007",
   "metadata": {},
   "outputs": [
    {
     "name": "stdout",
     "output_type": "stream",
     "text": [
      "16317653\n"
     ]
    }
   ],
   "source": [
    "print(len)"
   ]
  },
  {
   "cell_type": "code",
   "execution_count": 6,
   "id": "3d3c621f",
   "metadata": {},
   "outputs": [],
   "source": [
    "column_names = ['longtitude', 'latitude', 'depth', 'time', 'Z', 'H - Z', 'gradH', 'dp/dn', 'dp/dm', 'U', 'V', 'divU', 'alpha', 'Re', 'R^2', 'l']"
   ]
  },
  {
   "cell_type": "code",
   "execution_count": 7,
   "id": "30d19a82",
   "metadata": {},
   "outputs": [],
   "source": [
    "df_test = pd.DataFrame.from_records(data1, columns=column_names)"
   ]
  },
  {
   "cell_type": "code",
   "execution_count": 8,
   "id": "b3093456",
   "metadata": {},
   "outputs": [
    {
     "data": {
      "text/html": [
       "<div>\n",
       "<style scoped>\n",
       "    .dataframe tbody tr th:only-of-type {\n",
       "        vertical-align: middle;\n",
       "    }\n",
       "\n",
       "    .dataframe tbody tr th {\n",
       "        vertical-align: top;\n",
       "    }\n",
       "\n",
       "    .dataframe thead th {\n",
       "        text-align: right;\n",
       "    }\n",
       "</style>\n",
       "<table border=\"1\" class=\"dataframe\">\n",
       "  <thead>\n",
       "    <tr style=\"text-align: right;\">\n",
       "      <th></th>\n",
       "      <th>longtitude</th>\n",
       "      <th>latitude</th>\n",
       "      <th>depth</th>\n",
       "      <th>time</th>\n",
       "      <th>Z</th>\n",
       "      <th>H - Z</th>\n",
       "      <th>gradH</th>\n",
       "      <th>dp/dn</th>\n",
       "      <th>dp/dm</th>\n",
       "      <th>U</th>\n",
       "      <th>V</th>\n",
       "      <th>divU</th>\n",
       "      <th>alpha</th>\n",
       "      <th>Re</th>\n",
       "      <th>R^2</th>\n",
       "      <th>l</th>\n",
       "    </tr>\n",
       "  </thead>\n",
       "  <tbody>\n",
       "    <tr>\n",
       "      <th>0</th>\n",
       "      <td>54.670631</td>\n",
       "      <td>83.506218</td>\n",
       "      <td>260.880829</td>\n",
       "      <td>0.275342</td>\n",
       "      <td>0.725510</td>\n",
       "      <td>2.789800</td>\n",
       "      <td>1.192818</td>\n",
       "      <td>-0.447001</td>\n",
       "      <td>0.072130</td>\n",
       "      <td>0.061722</td>\n",
       "      <td>-0.267463</td>\n",
       "      <td>0.029152</td>\n",
       "      <td>0.889412</td>\n",
       "      <td>2.352274</td>\n",
       "      <td>0.545451</td>\n",
       "      <td>-0.030779</td>\n",
       "    </tr>\n",
       "    <tr>\n",
       "      <th>1</th>\n",
       "      <td>55.111080</td>\n",
       "      <td>83.556976</td>\n",
       "      <td>261.147583</td>\n",
       "      <td>0.275342</td>\n",
       "      <td>0.726526</td>\n",
       "      <td>2.793218</td>\n",
       "      <td>0.802603</td>\n",
       "      <td>-0.464200</td>\n",
       "      <td>0.056923</td>\n",
       "      <td>-0.553077</td>\n",
       "      <td>-0.341917</td>\n",
       "      <td>-0.003265</td>\n",
       "      <td>0.568718</td>\n",
       "      <td>2.353654</td>\n",
       "      <td>0.533632</td>\n",
       "      <td>-0.031526</td>\n",
       "    </tr>\n",
       "    <tr>\n",
       "      <th>2</th>\n",
       "      <td>54.589870</td>\n",
       "      <td>83.542686</td>\n",
       "      <td>263.440247</td>\n",
       "      <td>0.275342</td>\n",
       "      <td>0.735251</td>\n",
       "      <td>2.822588</td>\n",
       "      <td>0.865545</td>\n",
       "      <td>-0.460881</td>\n",
       "      <td>0.062216</td>\n",
       "      <td>0.175442</td>\n",
       "      <td>-0.292802</td>\n",
       "      <td>-0.002900</td>\n",
       "      <td>0.620906</td>\n",
       "      <td>2.368468</td>\n",
       "      <td>0.557263</td>\n",
       "      <td>-0.029026</td>\n",
       "    </tr>\n",
       "    <tr>\n",
       "      <th>3</th>\n",
       "      <td>54.070358</td>\n",
       "      <td>83.527733</td>\n",
       "      <td>264.341461</td>\n",
       "      <td>0.275342</td>\n",
       "      <td>0.738681</td>\n",
       "      <td>2.834133</td>\n",
       "      <td>0.928600</td>\n",
       "      <td>-0.457937</td>\n",
       "      <td>0.068287</td>\n",
       "      <td>0.031956</td>\n",
       "      <td>-0.131709</td>\n",
       "      <td>-0.015809</td>\n",
       "      <td>0.672894</td>\n",
       "      <td>2.374336</td>\n",
       "      <td>0.571387</td>\n",
       "      <td>-0.025546</td>\n",
       "    </tr>\n",
       "    <tr>\n",
       "      <th>4</th>\n",
       "      <td>53.553162</td>\n",
       "      <td>83.512093</td>\n",
       "      <td>261.709930</td>\n",
       "      <td>0.275342</td>\n",
       "      <td>0.728666</td>\n",
       "      <td>2.800422</td>\n",
       "      <td>0.992928</td>\n",
       "      <td>-0.455722</td>\n",
       "      <td>0.073692</td>\n",
       "      <td>-0.319286</td>\n",
       "      <td>0.055675</td>\n",
       "      <td>-0.021748</td>\n",
       "      <td>0.725374</td>\n",
       "      <td>2.357569</td>\n",
       "      <td>0.560561</td>\n",
       "      <td>-0.021462</td>\n",
       "    </tr>\n",
       "  </tbody>\n",
       "</table>\n",
       "</div>"
      ],
      "text/plain": [
       "   longtitude   latitude       depth      time         Z     H - Z     gradH  \\\n",
       "0   54.670631  83.506218  260.880829  0.275342  0.725510  2.789800  1.192818   \n",
       "1   55.111080  83.556976  261.147583  0.275342  0.726526  2.793218  0.802603   \n",
       "2   54.589870  83.542686  263.440247  0.275342  0.735251  2.822588  0.865545   \n",
       "3   54.070358  83.527733  264.341461  0.275342  0.738681  2.834133  0.928600   \n",
       "4   53.553162  83.512093  261.709930  0.275342  0.728666  2.800422  0.992928   \n",
       "\n",
       "      dp/dn     dp/dm         U         V      divU     alpha        Re  \\\n",
       "0 -0.447001  0.072130  0.061722 -0.267463  0.029152  0.889412  2.352274   \n",
       "1 -0.464200  0.056923 -0.553077 -0.341917 -0.003265  0.568718  2.353654   \n",
       "2 -0.460881  0.062216  0.175442 -0.292802 -0.002900  0.620906  2.368468   \n",
       "3 -0.457937  0.068287  0.031956 -0.131709 -0.015809  0.672894  2.374336   \n",
       "4 -0.455722  0.073692 -0.319286  0.055675 -0.021748  0.725374  2.357569   \n",
       "\n",
       "        R^2         l  \n",
       "0  0.545451 -0.030779  \n",
       "1  0.533632 -0.031526  \n",
       "2  0.557263 -0.029026  \n",
       "3  0.571387 -0.025546  \n",
       "4  0.560561 -0.021462  "
      ]
     },
     "execution_count": 8,
     "metadata": {},
     "output_type": "execute_result"
    }
   ],
   "source": [
    "df_test.head()"
   ]
  },
  {
   "cell_type": "code",
   "execution_count": 18,
   "id": "707abd85",
   "metadata": {},
   "outputs": [
    {
     "data": {
      "text/html": [
       "<div>\n",
       "<style scoped>\n",
       "    .dataframe tbody tr th:only-of-type {\n",
       "        vertical-align: middle;\n",
       "    }\n",
       "\n",
       "    .dataframe tbody tr th {\n",
       "        vertical-align: top;\n",
       "    }\n",
       "\n",
       "    .dataframe thead th {\n",
       "        text-align: right;\n",
       "    }\n",
       "</style>\n",
       "<table border=\"1\" class=\"dataframe\">\n",
       "  <thead>\n",
       "    <tr style=\"text-align: right;\">\n",
       "      <th></th>\n",
       "      <th>longtitude</th>\n",
       "      <th>latitude</th>\n",
       "      <th>depth</th>\n",
       "      <th>time</th>\n",
       "      <th>Z</th>\n",
       "      <th>H - Z</th>\n",
       "      <th>gradH</th>\n",
       "      <th>dp/dn</th>\n",
       "      <th>dp/dm</th>\n",
       "      <th>U</th>\n",
       "      <th>V</th>\n",
       "      <th>divU</th>\n",
       "      <th>alpha</th>\n",
       "      <th>Re</th>\n",
       "      <th>R^2</th>\n",
       "      <th>l</th>\n",
       "    </tr>\n",
       "  </thead>\n",
       "  <tbody>\n",
       "    <tr>\n",
       "      <th>count</th>\n",
       "      <td>1.631765e+07</td>\n",
       "      <td>1.631765e+07</td>\n",
       "      <td>1.631765e+07</td>\n",
       "      <td>1.631765e+07</td>\n",
       "      <td>1.631765e+07</td>\n",
       "      <td>1.631765e+07</td>\n",
       "      <td>1.631765e+07</td>\n",
       "      <td>1.631765e+07</td>\n",
       "      <td>1.631765e+07</td>\n",
       "      <td>1.631765e+07</td>\n",
       "      <td>1.631765e+07</td>\n",
       "      <td>1.631765e+07</td>\n",
       "      <td>1.631765e+07</td>\n",
       "      <td>1.631765e+07</td>\n",
       "      <td>1.631765e+07</td>\n",
       "      <td>1.631765e+07</td>\n",
       "    </tr>\n",
       "    <tr>\n",
       "      <th>mean</th>\n",
       "      <td>6.110574e+01</td>\n",
       "      <td>7.685098e+01</td>\n",
       "      <td>9.005894e+01</td>\n",
       "      <td>5.122903e-01</td>\n",
       "      <td>7.955736e-02</td>\n",
       "      <td>2.868111e+00</td>\n",
       "      <td>2.236322e-01</td>\n",
       "      <td>-4.570616e-01</td>\n",
       "      <td>4.424198e-02</td>\n",
       "      <td>-7.105519e-02</td>\n",
       "      <td>-1.767850e-01</td>\n",
       "      <td>-4.407036e-02</td>\n",
       "      <td>1.268243e-01</td>\n",
       "      <td>2.172946e+00</td>\n",
       "      <td>2.638508e+00</td>\n",
       "      <td>2.857208e-03</td>\n",
       "    </tr>\n",
       "    <tr>\n",
       "      <th>std</th>\n",
       "      <td>1.002152e+02</td>\n",
       "      <td>4.847694e+00</td>\n",
       "      <td>7.927928e+01</td>\n",
       "      <td>2.849843e-01</td>\n",
       "      <td>3.035673e-01</td>\n",
       "      <td>5.077391e-01</td>\n",
       "      <td>6.963413e-01</td>\n",
       "      <td>1.220559e-01</td>\n",
       "      <td>1.932047e-01</td>\n",
       "      <td>9.165499e-01</td>\n",
       "      <td>1.001203e+00</td>\n",
       "      <td>5.263117e-01</td>\n",
       "      <td>5.605801e-01</td>\n",
       "      <td>2.791184e-01</td>\n",
       "      <td>1.608871e+00</td>\n",
       "      <td>2.555803e-02</td>\n",
       "    </tr>\n",
       "    <tr>\n",
       "      <th>min</th>\n",
       "      <td>-1.799903e+02</td>\n",
       "      <td>6.670249e+01</td>\n",
       "      <td>0.000000e+00</td>\n",
       "      <td>2.876712e-02</td>\n",
       "      <td>-2.673396e-01</td>\n",
       "      <td>6.598193e-01</td>\n",
       "      <td>-5.451422e-01</td>\n",
       "      <td>-1.097044e+00</td>\n",
       "      <td>-1.699144e+00</td>\n",
       "      <td>-9.679978e+00</td>\n",
       "      <td>-9.257706e+00</td>\n",
       "      <td>-7.843035e+00</td>\n",
       "      <td>-5.963866e-01</td>\n",
       "      <td>1.000026e+00</td>\n",
       "      <td>1.760163e-01</td>\n",
       "      <td>-1.766407e-01</td>\n",
       "    </tr>\n",
       "    <tr>\n",
       "      <th>25%</th>\n",
       "      <td>8.528100e+00</td>\n",
       "      <td>7.793107e+01</td>\n",
       "      <td>2.899467e+01</td>\n",
       "      <td>2.753425e-01</td>\n",
       "      <td>-1.569928e-01</td>\n",
       "      <td>2.473165e+00</td>\n",
       "      <td>-3.109824e-01</td>\n",
       "      <td>-4.709657e-01</td>\n",
       "      <td>-2.824470e-02</td>\n",
       "      <td>-4.902503e-01</td>\n",
       "      <td>-4.785170e-01</td>\n",
       "      <td>-2.625355e-01</td>\n",
       "      <td>-2.983946e-01</td>\n",
       "      <td>2.162104e+00</td>\n",
       "      <td>1.374801e+00</td>\n",
       "      <td>-9.900752e-03</td>\n",
       "    </tr>\n",
       "    <tr>\n",
       "      <th>50%</th>\n",
       "      <td>1.108898e+02</td>\n",
       "      <td>8.068726e+01</td>\n",
       "      <td>6.535324e+01</td>\n",
       "      <td>5.246575e-01</td>\n",
       "      <td>-1.862079e-02</td>\n",
       "      <td>2.824055e+00</td>\n",
       "      <td>3.972616e-02</td>\n",
       "      <td>-4.336215e-01</td>\n",
       "      <td>3.991347e-02</td>\n",
       "      <td>-1.108814e-01</td>\n",
       "      <td>-7.344660e-02</td>\n",
       "      <td>-4.448158e-02</td>\n",
       "      <td>-1.592595e-02</td>\n",
       "      <td>2.330215e+00</td>\n",
       "      <td>2.379150e+00</td>\n",
       "      <td>1.137844e-03</td>\n",
       "    </tr>\n",
       "    <tr>\n",
       "      <th>75%</th>\n",
       "      <td>1.254461e+02</td>\n",
       "      <td>8.305003e+01</td>\n",
       "      <td>1.345804e+02</td>\n",
       "      <td>7.767124e-01</td>\n",
       "      <td>2.448414e-01</td>\n",
       "      <td>3.181473e+00</td>\n",
       "      <td>5.276989e-01</td>\n",
       "      <td>-3.839369e-01</td>\n",
       "      <td>1.248369e-01</td>\n",
       "      <td>2.978205e-01</td>\n",
       "      <td>3.196520e-01</td>\n",
       "      <td>1.848699e-01</td>\n",
       "      <td>3.707089e-01</td>\n",
       "      <td>2.520707e+00</td>\n",
       "      <td>3.614134e+00</td>\n",
       "      <td>1.355768e-02</td>\n",
       "    </tr>\n",
       "    <tr>\n",
       "      <th>max</th>\n",
       "      <td>1.799992e+02</td>\n",
       "      <td>8.700593e+01</td>\n",
       "      <td>5.394152e+02</td>\n",
       "      <td>1.001370e+00</td>\n",
       "      <td>1.785545e+00</td>\n",
       "      <td>4.510154e+00</td>\n",
       "      <td>5.097567e+00</td>\n",
       "      <td>6.802204e-01</td>\n",
       "      <td>1.512203e+00</td>\n",
       "      <td>1.297517e+01</td>\n",
       "      <td>6.920198e+00</td>\n",
       "      <td>6.496640e+00</td>\n",
       "      <td>3.996173e+00</td>\n",
       "      <td>2.995381e+00</td>\n",
       "      <td>2.336407e+01</td>\n",
       "      <td>2.840675e-01</td>\n",
       "    </tr>\n",
       "  </tbody>\n",
       "</table>\n",
       "</div>"
      ],
      "text/plain": [
       "         longtitude      latitude         depth          time             Z  \\\n",
       "count  1.631765e+07  1.631765e+07  1.631765e+07  1.631765e+07  1.631765e+07   \n",
       "mean   6.110574e+01  7.685098e+01  9.005894e+01  5.122903e-01  7.955736e-02   \n",
       "std    1.002152e+02  4.847694e+00  7.927928e+01  2.849843e-01  3.035673e-01   \n",
       "min   -1.799903e+02  6.670249e+01  0.000000e+00  2.876712e-02 -2.673396e-01   \n",
       "25%    8.528100e+00  7.793107e+01  2.899467e+01  2.753425e-01 -1.569928e-01   \n",
       "50%    1.108898e+02  8.068726e+01  6.535324e+01  5.246575e-01 -1.862079e-02   \n",
       "75%    1.254461e+02  8.305003e+01  1.345804e+02  7.767124e-01  2.448414e-01   \n",
       "max    1.799992e+02  8.700593e+01  5.394152e+02  1.001370e+00  1.785545e+00   \n",
       "\n",
       "              H - Z         gradH         dp/dn         dp/dm             U  \\\n",
       "count  1.631765e+07  1.631765e+07  1.631765e+07  1.631765e+07  1.631765e+07   \n",
       "mean   2.868111e+00  2.236322e-01 -4.570616e-01  4.424198e-02 -7.105519e-02   \n",
       "std    5.077391e-01  6.963413e-01  1.220559e-01  1.932047e-01  9.165499e-01   \n",
       "min    6.598193e-01 -5.451422e-01 -1.097044e+00 -1.699144e+00 -9.679978e+00   \n",
       "25%    2.473165e+00 -3.109824e-01 -4.709657e-01 -2.824470e-02 -4.902503e-01   \n",
       "50%    2.824055e+00  3.972616e-02 -4.336215e-01  3.991347e-02 -1.108814e-01   \n",
       "75%    3.181473e+00  5.276989e-01 -3.839369e-01  1.248369e-01  2.978205e-01   \n",
       "max    4.510154e+00  5.097567e+00  6.802204e-01  1.512203e+00  1.297517e+01   \n",
       "\n",
       "                  V          divU         alpha            Re           R^2  \\\n",
       "count  1.631765e+07  1.631765e+07  1.631765e+07  1.631765e+07  1.631765e+07   \n",
       "mean  -1.767850e-01 -4.407036e-02  1.268243e-01  2.172946e+00  2.638508e+00   \n",
       "std    1.001203e+00  5.263117e-01  5.605801e-01  2.791184e-01  1.608871e+00   \n",
       "min   -9.257706e+00 -7.843035e+00 -5.963866e-01  1.000026e+00  1.760163e-01   \n",
       "25%   -4.785170e-01 -2.625355e-01 -2.983946e-01  2.162104e+00  1.374801e+00   \n",
       "50%   -7.344660e-02 -4.448158e-02 -1.592595e-02  2.330215e+00  2.379150e+00   \n",
       "75%    3.196520e-01  1.848699e-01  3.707089e-01  2.520707e+00  3.614134e+00   \n",
       "max    6.920198e+00  6.496640e+00  3.996173e+00  2.995381e+00  2.336407e+01   \n",
       "\n",
       "                  l  \n",
       "count  1.631765e+07  \n",
       "mean   2.857208e-03  \n",
       "std    2.555803e-02  \n",
       "min   -1.766407e-01  \n",
       "25%   -9.900752e-03  \n",
       "50%    1.137844e-03  \n",
       "75%    1.355768e-02  \n",
       "max    2.840675e-01  "
      ]
     },
     "execution_count": 18,
     "metadata": {},
     "output_type": "execute_result"
    }
   ],
   "source": [
    "df_test.describe()"
   ]
  },
  {
   "cell_type": "code",
   "execution_count": 12,
   "id": "ed1c06bc",
   "metadata": {
    "scrolled": true
   },
   "outputs": [
    {
     "data": {
      "text/plain": [
       "longtitude    0\n",
       "latitude      0\n",
       "depth         0\n",
       "time          0\n",
       "Z             0\n",
       "H - Z         0\n",
       "gradH         0\n",
       "dp/dn         0\n",
       "dp/dm         0\n",
       "U             0\n",
       "V             0\n",
       "divU          0\n",
       "alpha         0\n",
       "Re            0\n",
       "R^2           0\n",
       "l             0\n",
       "dtype: int64"
      ]
     },
     "execution_count": 12,
     "metadata": {},
     "output_type": "execute_result"
    }
   ],
   "source": [
    "df_test.isna().sum()"
   ]
  },
  {
   "cell_type": "code",
   "execution_count": 14,
   "id": "9779ff40",
   "metadata": {},
   "outputs": [
    {
     "data": {
      "text/plain": [
       "inf"
      ]
     },
     "execution_count": 14,
     "metadata": {},
     "output_type": "execute_result"
    }
   ],
   "source": [
    "df_test.Z.sum()"
   ]
  },
  {
   "cell_type": "code",
   "execution_count": 9,
   "id": "1ac599c7",
   "metadata": {},
   "outputs": [],
   "source": [
    "X = df_test.drop(['longtitude', 'latitude', 'depth', 'time'], axis=1)"
   ]
  },
  {
   "cell_type": "code",
   "execution_count": 17,
   "id": "acc9b361",
   "metadata": {},
   "outputs": [
    {
     "name": "stdout",
     "output_type": "stream",
     "text": [
      "(13054122, 12)\n"
     ]
    }
   ],
   "source": [
    "print(train.shape)"
   ]
  },
  {
   "cell_type": "code",
   "execution_count": 10,
   "id": "bd4dd6ca",
   "metadata": {},
   "outputs": [],
   "source": [
    "X.dropna(axis=0, subset=['l'], inplace=True)\n",
    "y = X.l             \n",
    "X.drop(['l'], axis=1, inplace=True)"
   ]
  },
  {
   "cell_type": "code",
   "execution_count": 27,
   "id": "805878e9",
   "metadata": {},
   "outputs": [
    {
     "name": "stdout",
     "output_type": "stream",
     "text": [
      "<class 'pandas.core.series.Series'>\n",
      "RangeIndex: 16317653 entries, 0 to 16317652\n",
      "Series name: l\n",
      "Non-Null Count     Dtype  \n",
      "--------------     -----  \n",
      "16317653 non-null  float16\n",
      "dtypes: float16(1)\n",
      "memory usage: 31.1 MB\n"
     ]
    }
   ],
   "source": [
    "y.info()"
   ]
  },
  {
   "cell_type": "code",
   "execution_count": 28,
   "id": "74b4d3a7",
   "metadata": {},
   "outputs": [
    {
     "name": "stdout",
     "output_type": "stream",
     "text": [
      "<class 'pandas.core.frame.DataFrame'>\n",
      "RangeIndex: 16317653 entries, 0 to 16317652\n",
      "Data columns (total 11 columns):\n",
      " #   Column  Dtype  \n",
      "---  ------  -----  \n",
      " 0   a       float16\n",
      " 1   b       float16\n",
      " 2   c       float16\n",
      " 3   d       float16\n",
      " 4   e       float16\n",
      " 5   f       float16\n",
      " 6   g       float16\n",
      " 7   h       float16\n",
      " 8   i       float16\n",
      " 9   j       float16\n",
      " 10  k       float16\n",
      "dtypes: float16(11)\n",
      "memory usage: 342.4 MB\n"
     ]
    }
   ],
   "source": [
    "X.info()"
   ]
  },
  {
   "cell_type": "code",
   "execution_count": 16,
   "id": "d23333fb",
   "metadata": {},
   "outputs": [],
   "source": [
    "X_train_full, X_valid_full, y_train, y_valid = train_test_split(X, y, train_size=0.8, test_size=0.2,\n",
    "                                                                random_state=0)"
   ]
  },
  {
   "cell_type": "code",
   "execution_count": 40,
   "id": "d701d40a",
   "metadata": {},
   "outputs": [
    {
     "name": "stdout",
     "output_type": "stream",
     "text": [
      "<class 'pandas.core.frame.DataFrame'>\n",
      "Int64Index: 3263531 entries, 9607598 to 10763460\n",
      "Data columns (total 11 columns):\n",
      " #   Column  Dtype  \n",
      "---  ------  -----  \n",
      " 0   a       float16\n",
      " 1   b       float16\n",
      " 2   c       float16\n",
      " 3   d       float16\n",
      " 4   e       float16\n",
      " 5   f       float16\n",
      " 6   g       float16\n",
      " 7   h       float16\n",
      " 8   i       float16\n",
      " 9   j       float16\n",
      " 10  k       float16\n",
      "dtypes: float16(11)\n",
      "memory usage: 93.4 MB\n"
     ]
    }
   ],
   "source": [
    "X_valid_full.info()"
   ]
  },
  {
   "cell_type": "code",
   "execution_count": 13,
   "id": "e2ba3de9",
   "metadata": {},
   "outputs": [],
   "source": [
    "from xgboost import XGBRegressor\n"
   ]
  },
  {
   "cell_type": "code",
   "execution_count": 32,
   "id": "3b1e839d",
   "metadata": {},
   "outputs": [
    {
     "data": {
      "text/plain": [
       "XGBRegressor(base_score=None, booster=None, callbacks=None,\n",
       "             colsample_bylevel=None, colsample_bynode=None,\n",
       "             colsample_bytree=None, early_stopping_rounds=None,\n",
       "             enable_categorical=False, eval_metric=None, feature_types=None,\n",
       "             gamma=None, gpu_id=None, grow_policy=None, importance_type=None,\n",
       "             interaction_constraints=None, learning_rate=None, max_bin=None,\n",
       "             max_cat_threshold=None, max_cat_to_onehot=None,\n",
       "             max_delta_step=None, max_depth=None, max_leaves=None,\n",
       "             min_child_weight=None, missing=nan, monotone_constraints=None,\n",
       "             n_estimators=100, n_jobs=None, num_parallel_tree=None,\n",
       "             predictor=None, random_state=0, ...)"
      ]
     },
     "execution_count": 32,
     "metadata": {},
     "output_type": "execute_result"
    }
   ],
   "source": [
    "my_model_1 = XGBRegressor(random_state=0)\n",
    "\n",
    "\n",
    "my_model_1.fit(X_train_full, y_train)"
   ]
  },
  {
   "cell_type": "code",
   "execution_count": 34,
   "id": "b0bc6075",
   "metadata": {},
   "outputs": [],
   "source": [
    "predictions_1 = my_model_1.predict(X_valid_full)"
   ]
  },
  {
   "cell_type": "code",
   "execution_count": 17,
   "id": "e637b02c",
   "metadata": {},
   "outputs": [],
   "source": [
    "from sklearn.metrics import mean_absolute_error"
   ]
  },
  {
   "cell_type": "code",
   "execution_count": 37,
   "id": "e875f3ed",
   "metadata": {},
   "outputs": [
    {
     "name": "stdout",
     "output_type": "stream",
     "text": [
      "0.0102393245\n"
     ]
    }
   ],
   "source": [
    "mae_1 = mean_absolute_error(predictions_1, y_valid)\n",
    "print(mae_1)"
   ]
  },
  {
   "cell_type": "code",
   "execution_count": 38,
   "id": "23c8d592",
   "metadata": {},
   "outputs": [
    {
     "data": {
      "text/plain": [
       "array([ 0.01729674, -0.01461649,  0.00100263, ..., -0.0079378 ,\n",
       "       -0.00324117,  0.0055724 ], dtype=float32)"
      ]
     },
     "execution_count": 38,
     "metadata": {},
     "output_type": "execute_result"
    }
   ],
   "source": [
    "predictions_1"
   ]
  },
  {
   "cell_type": "code",
   "execution_count": 27,
   "id": "7c8129dc",
   "metadata": {},
   "outputs": [],
   "source": [
    "from matplotlib import pyplot as plt"
   ]
  },
  {
   "cell_type": "code",
   "execution_count": 50,
   "id": "0ff20b54",
   "metadata": {},
   "outputs": [
    {
     "data": {
      "text/plain": [
       "(0.26415566, -0.1437645)"
      ]
     },
     "execution_count": 50,
     "metadata": {},
     "output_type": "execute_result"
    }
   ],
   "source": [
    "max(predictions_1), min(predictions_1)"
   ]
  },
  {
   "cell_type": "code",
   "execution_count": 52,
   "id": "fbab868a",
   "metadata": {},
   "outputs": [
    {
     "data": {
      "text/plain": [
       "(0.282958984375, -0.1766357421875)"
      ]
     },
     "execution_count": 52,
     "metadata": {},
     "output_type": "execute_result"
    }
   ],
   "source": [
    "max(y_train), min(y_train)"
   ]
  },
  {
   "cell_type": "code",
   "execution_count": 59,
   "id": "a457dd2f",
   "metadata": {},
   "outputs": [
    {
     "name": "stdout",
     "output_type": "stream",
     "text": [
      "0.010791586\n",
      "0.0102393245\n",
      "0.009934938\n",
      "0.009701134\n",
      "0.009521795\n",
      "0.009365473\n",
      "0.009245722\n",
      "0.009136502\n",
      "0.009039631\n"
     ]
    }
   ],
   "source": [
    "for i in range(50, 500, 50):\n",
    "    my_model = XGBRegressor(n_estimators = i, tree_method=\"hist\")\n",
    "    my_model.fit(X_train_full, y_train)\n",
    "    predictions = my_model.predict(X_valid_full)\n",
    "    mae = mean_absolute_error(predictions, y_valid)\n",
    "    print(mae)\n",
    "    "
   ]
  },
  {
   "cell_type": "code",
   "execution_count": 61,
   "id": "3a555338",
   "metadata": {},
   "outputs": [
    {
     "name": "stdout",
     "output_type": "stream",
     "text": [
      "0.012917555\n",
      "0.010921019\n",
      "0.009549043\n",
      "0.008294556\n",
      "0.0070089893\n",
      "0.0057496587\n",
      "0.0047544306\n",
      "0.0042084306\n",
      "0.0040723425\n",
      "0.0040676156\n"
     ]
    }
   ],
   "source": [
    "for i in range(1, 20, 2):\n",
    "    my_model = XGBRegressor(n_estimators = 500, tree_method=\"gpu_hist\", max_depth = i)\n",
    "    my_model.fit(X_train_full, y_train)\n",
    "    predictions = my_model.predict(X_valid_full)\n",
    "    mae = mean_absolute_error(predictions, y_valid)\n",
    "    print(mae)"
   ]
  },
  {
   "cell_type": "code",
   "execution_count": 19,
   "id": "78b2746d",
   "metadata": {},
   "outputs": [
    {
     "name": "stdout",
     "output_type": "stream",
     "text": [
      "0.004044556\n"
     ]
    }
   ],
   "source": [
    "opt_model =XGBRegressor(n_estimators = 500, max_depth = 20, tree_method=\"gpu_hist\")\n",
    "opt_model.fit(X_train_full, y_train)\n",
    "prediction1 = opt_model.predict(X_valid_full)\n",
    "mae2 = mean_absolute_error(prediction1, y_valid)\n",
    "print(mae2)"
   ]
  },
  {
   "cell_type": "code",
   "execution_count": 25,
   "id": "d9f7fb6d",
   "metadata": {},
   "outputs": [],
   "source": [
    "y_split = np.sort(y)"
   ]
  },
  {
   "cell_type": "code",
   "execution_count": 26,
   "id": "ef5ccfb9",
   "metadata": {},
   "outputs": [
    {
     "data": {
      "text/plain": [
       "[array([-0.17664073, -0.1763739 , -0.17629063, ..., -0.02422939,\n",
       "        -0.02422938, -0.02422938], dtype=float32),\n",
       " array([-0.02422936, -0.02422936, -0.02422935, ..., -0.01330733,\n",
       "        -0.01330732, -0.01330732], dtype=float32),\n",
       " array([-0.01330732, -0.01330732, -0.01330732, ..., -0.00714112,\n",
       "        -0.00714112, -0.00714111], dtype=float32),\n",
       " array([-0.00714111, -0.0071411 , -0.0071411 , ..., -0.00268876,\n",
       "        -0.00268876, -0.00268876], dtype=float32),\n",
       " array([-0.00268876, -0.00268876, -0.00268876, ...,  0.00113784,\n",
       "         0.00113784,  0.00113784], dtype=float32),\n",
       " array([0.00113784, 0.00113785, 0.00113785, ..., 0.005186  , 0.005186  ,\n",
       "        0.00518602], dtype=float32),\n",
       " array([0.00518602, 0.00518602, 0.00518602, ..., 0.01027312, 0.01027312,\n",
       "        0.01027313], dtype=float32),\n",
       " array([0.01027313, 0.01027314, 0.01027314, ..., 0.01771007, 0.01771007,\n",
       "        0.01771007], dtype=float32),\n",
       " array([0.01771007, 0.01771008, 0.01771008, ..., 0.03198757, 0.03198758,\n",
       "        0.03198758], dtype=float32),\n",
       " array([0.03198759, 0.03198759, 0.0319876 , ..., 0.28255233, 0.28301778,\n",
       "        0.2840675 ], dtype=float32)]"
      ]
     },
     "execution_count": 26,
     "metadata": {},
     "output_type": "execute_result"
    }
   ],
   "source": [
    "np.array_split(y_split, 10)"
   ]
  },
  {
   "cell_type": "code",
   "execution_count": 41,
   "id": "f7ce467b",
   "metadata": {},
   "outputs": [],
   "source": [
    "min0 = np.array_split(y_split, 10)[0][0]\n",
    "min1 = np.array_split(y_split, 10)[1][0]\n",
    "min2 = np.array_split(y_split, 10)[2][0]\n",
    "min3 = np.array_split(y_split, 10)[3][0]\n",
    "min4 = np.array_split(y_split, 10)[4][0]\n",
    "min5 = np.array_split(y_split, 10)[5][0]\n",
    "min6 = np.array_split(y_split, 10)[6][0]\n",
    "min7 = np.array_split(y_split, 10)[7][0]\n",
    "min8 = np.array_split(y_split, 10)[8][0]\n",
    "min9 = np.array_split(y_split, 10)[9][0]"
   ]
  },
  {
   "cell_type": "code",
   "execution_count": 40,
   "id": "7a8dc757",
   "metadata": {},
   "outputs": [],
   "source": [
    "max0 = np.array_split(y_split, 10)[0][-1]\n",
    "max1 = np.array_split(y_split, 10)[1][-1]\n",
    "max2 = np.array_split(y_split, 10)[2][-1]\n",
    "max3 = np.array_split(y_split, 10)[3][-1]\n",
    "max4 = np.array_split(y_split, 10)[4][-1]\n",
    "max5 = np.array_split(y_split, 10)[5][-1]\n",
    "max6 = np.array_split(y_split, 10)[6][-1]\n",
    "max7 = np.array_split(y_split, 10)[7][-1]\n",
    "max8 = np.array_split(y_split, 10)[8][-1]\n",
    "max9 = np.array_split(y_split, 10)[9][-1]"
   ]
  },
  {
   "cell_type": "code",
   "execution_count": 43,
   "id": "2ffccd80",
   "metadata": {},
   "outputs": [],
   "source": [
    "pred_sort = np.sort(prediction1)"
   ]
  },
  {
   "cell_type": "code",
   "execution_count": 44,
   "id": "0ccaa6a2",
   "metadata": {},
   "outputs": [
    {
     "data": {
      "text/plain": [
       "[array([-0.1799645 , -0.17933868, -0.17651565, ..., -0.02290738,\n",
       "        -0.02290728, -0.02290723], dtype=float32),\n",
       " array([-0.02290709, -0.02290707, -0.02290703, ..., -0.01236834,\n",
       "        -0.01236833, -0.01236833], dtype=float32),\n",
       " array([-0.01236833, -0.01236831, -0.01236828, ..., -0.00656569,\n",
       "        -0.00656566, -0.00656561], dtype=float32),\n",
       " array([-0.0065656 , -0.00656559, -0.00656558, ..., -0.00239878,\n",
       "        -0.00239876, -0.00239873], dtype=float32),\n",
       " array([-0.00239873, -0.00239871, -0.0023987 , ...,  0.00120536,\n",
       "         0.00120538,  0.00120539], dtype=float32),\n",
       " array([0.00120539, 0.00120542, 0.00120543, ..., 0.0049768 , 0.00497681,\n",
       "        0.00497684], dtype=float32),\n",
       " array([0.00497685, 0.00497685, 0.00497688, ..., 0.00971133, 0.00971134,\n",
       "        0.00971135], dtype=float32),\n",
       " array([0.00971138, 0.00971139, 0.0097114 , ..., 0.01679228, 0.01679228,\n",
       "        0.01679229], dtype=float32),\n",
       " array([0.01679231, 0.01679232, 0.01679233, ..., 0.03065671, 0.03065672,\n",
       "        0.03065677], dtype=float32),\n",
       " array([0.03065679, 0.03065679, 0.03065695, ..., 0.26984558, 0.27640024,\n",
       "        0.27776143], dtype=float32)]"
      ]
     },
     "execution_count": 44,
     "metadata": {},
     "output_type": "execute_result"
    }
   ],
   "source": [
    "np.array_split(pred_sort, 10)"
   ]
  },
  {
   "cell_type": "code",
   "execution_count": 54,
   "id": "fb60d6a0",
   "metadata": {},
   "outputs": [
    {
     "data": {
      "text/plain": [
       "326353"
      ]
     },
     "execution_count": 54,
     "metadata": {},
     "output_type": "execute_result"
    }
   ],
   "source": [
    "len(np.array_split(pred_sort, 10)[1])"
   ]
  },
  {
   "cell_type": "code",
   "execution_count": 62,
   "id": "46f7d5ec",
   "metadata": {},
   "outputs": [
    {
     "name": "stdout",
     "output_type": "stream",
     "text": [
      "300394\n",
      "285542\n",
      "287357\n",
      "301632\n",
      "320133\n",
      "326353\n",
      "309792\n",
      "294075\n",
      "294807\n",
      "306697\n"
     ]
    }
   ],
   "source": [
    "for i in range(10):\n",
    "    count = 0\n",
    "    for n in range(326353):\n",
    "        \n",
    "        if (np.array_split(pred_sort, 10)[i][n] < np.array_split(y_split, 10)[i][-1]) and (np.array_split(pred_sort, 10)[i][n] > np.array_split(y_split, 10)[i][0])  :\n",
    "            count = count + 1\n",
    "    print(count)"
   ]
  },
  {
   "cell_type": "code",
   "execution_count": null,
   "id": "28016bcb",
   "metadata": {},
   "outputs": [],
   "source": []
  }
 ],
 "metadata": {
  "kernelspec": {
   "display_name": "Python 3 (ipykernel)",
   "language": "python",
   "name": "python3"
  },
  "language_info": {
   "codemirror_mode": {
    "name": "ipython",
    "version": 3
   },
   "file_extension": ".py",
   "mimetype": "text/x-python",
   "name": "python",
   "nbconvert_exporter": "python",
   "pygments_lexer": "ipython3",
   "version": "3.9.13"
  }
 },
 "nbformat": 4,
 "nbformat_minor": 5
}
